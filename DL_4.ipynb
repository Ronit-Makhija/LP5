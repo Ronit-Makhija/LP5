{
  "cells": [
    {
      "cell_type": "code",
      "execution_count": null,
      "id": "237cde57",
      "metadata": {
        "id": "237cde57"
      },
      "outputs": [],
      "source": [
        "import numpy as np\n",
        "import pandas as pd\n",
        "import matplotlib.pyplot as plt\n",
        "from sklearn.preprocessing import MinMaxScaler\n",
        "from keras.models import Sequential\n",
        "from keras.layers import Dense, LSTM"
      ]
    },
    {
      "cell_type": "code",
      "execution_count": null,
      "id": "1728e183",
      "metadata": {
        "id": "1728e183"
      },
      "outputs": [],
      "source": [
        "# Load the dataset\n",
        "dataset = pd.read_csv('GOOGL.csv', index_col='Date', parse_dates=['Date'])"
      ]
    },
    {
      "cell_type": "code",
      "execution_count": null,
      "id": "97173a81",
      "metadata": {
        "id": "97173a81"
      },
      "outputs": [],
      "source": [
        "# Split the dataset into training and testing sets\n",
        "train_set = dataset[:'2018'].iloc[:, 1:2].values\n",
        "test_set = dataset['2019':].iloc[:, 1:2].values\n"
      ]
    },
    {
      "cell_type": "code",
      "execution_count": null,
      "id": "4db3df09",
      "metadata": {
        "id": "4db3df09"
      },
      "outputs": [],
      "source": [
        "# Normalize the dataset\n",
        "sc = MinMaxScaler(feature_range=(0, 1))\n",
        "train_set_scaled = sc.fit_transform(train_set)\n"
      ]
    },
    {
      "cell_type": "code",
      "execution_count": null,
      "id": "5f7678a1",
      "metadata": {
        "id": "5f7678a1"
      },
      "outputs": [],
      "source": [
        "# Create a function to generate a sliding window of data\n",
        "def create_dataset(dataset, look_back=60):\n",
        "    X, Y = [], []\n",
        "    for i in range(look_back, len(dataset)):\n",
        "        X.append(dataset[i-look_back:i, 0])\n",
        "        Y.append(dataset[i, 0])\n",
        "    X, Y = np.array(X), np.array(Y)\n",
        "    X = np.reshape(X, (X.shape[0], X.shape[1], 1))\n",
        "    return X, Y\n"
      ]
    },
    {
      "cell_type": "code",
      "execution_count": null,
      "id": "03afd848",
      "metadata": {
        "id": "03afd848"
      },
      "outputs": [],
      "source": [
        "# Generate the training and testing datasets\n",
        "look_back = 60\n",
        "X_train, Y_train = create_dataset(train_set_scaled, look_back)\n",
        "X_test, Y_test = create_dataset(test_set, look_back)\n"
      ]
    },
    {
      "cell_type": "code",
      "execution_count": null,
      "id": "809e272b",
      "metadata": {
        "id": "809e272b"
      },
      "outputs": [],
      "source": [
        "# Build the RNN model\n",
        "model = Sequential()\n",
        "model.add(LSTM(units=50, return_sequences=True, input_shape=(X_train.shape[1], 1)))\n",
        "model.add(LSTM(units=50))\n",
        "model.add(Dense(units=1))\n",
        "model.compile(optimizer='adam', loss='mean_squared_error')\n"
      ]
    },
    {
      "cell_type": "code",
      "execution_count": null,
      "id": "ce48c6c0",
      "metadata": {
        "id": "ce48c6c0"
      },
      "outputs": [],
      "source": [
        "# Train the RNN model\n",
        "model.fit(X_train, Y_train, epochs=100, batch_size=32)\n"
      ]
    },
    {
      "cell_type": "code",
      "execution_count": null,
      "id": "26590b26",
      "metadata": {
        "id": "26590b26",
        "outputId": "9ed58795-c77e-44fb-f4f2-c673761c244e"
      },
      "outputs": [
        {
          "name": "stdout",
          "output_type": "stream",
          "text": [
            "24/24 [==============================] - 1s 12ms/step - loss: 3837672.0000\n"
          ]
        }
      ],
      "source": [
        "# Evaluate the model on the testing set\n",
        "mse = model.evaluate(X_test, Y_test)\n",
        "rmse = np.sqrt(mse)\n"
      ]
    },
    {
      "cell_type": "code",
      "execution_count": null,
      "id": "5e519470",
      "metadata": {
        "id": "5e519470",
        "outputId": "6ffd0591-32ff-49b6-b460-f3dcbaaa442a"
      },
      "outputs": [
        {
          "name": "stdout",
          "output_type": "stream",
          "text": [
            "1/1 [==============================] - 1s 709ms/step\n",
            "[[1057.5223]]\n"
          ]
        }
      ],
      "source": [
        "# Make predictions on future Google stock prices\n",
        "last_60_days = train_set[-60:]\n",
        "last_60_days_scaled = sc.transform(last_60_days)\n",
        "X_pred = np.array([last_60_days_scaled])\n",
        "X_pred = np.reshape(X_pred, (X_pred.shape[0], X_pred.shape[1], 1))\n",
        "pred_price = model.predict(X_pred)\n",
        "pred_price = sc.inverse_transform(pred_price)\n",
        "print(pred_price)\n"
      ]
    },
    {
      "cell_type": "code",
      "execution_count": null,
      "id": "cd6c4820",
      "metadata": {
        "id": "cd6c4820"
      },
      "outputs": [],
      "source": []
    }
  ],
  "metadata": {
    "kernelspec": {
      "display_name": "Python 3 (ipykernel)",
      "language": "python",
      "name": "python3"
    },
    "language_info": {
      "codemirror_mode": {
        "name": "ipython",
        "version": 3
      },
      "file_extension": ".py",
      "mimetype": "text/x-python",
      "name": "python",
      "nbconvert_exporter": "python",
      "pygments_lexer": "ipython3",
      "version": "3.9.16"
    },
    "colab": {
      "provenance": []
    }
  },
  "nbformat": 4,
  "nbformat_minor": 5
}